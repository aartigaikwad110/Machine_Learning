{
 "cells": [
  {
   "cell_type": "markdown",
   "id": "725f1c4f",
   "metadata": {},
   "source": [
    "1. What is the concept of human learning? Please give two examples ?\n",
    "\n",
    "Ans: Human learning is the form of learning which requires higher order mental processes like thinking, reasoning, intelligence, etc.\n",
    "We learn different concepts from childhood. For example:\n",
    "\n",
    "1. Learning through Association - Classical Conditioning.\n",
    "2. Learning through consequences – Operant Conditioning.\n",
    "3. Learning through observation – Modeling/Observational Learning."
   ]
  },
  {
   "cell_type": "code",
   "execution_count": null,
   "id": "c1f9377a",
   "metadata": {},
   "outputs": [],
   "source": []
  },
  {
   "cell_type": "markdown",
   "id": "922f8b10",
   "metadata": {},
   "source": [
    "\n",
    "2. What different forms of human learning are there? Are there any machine learning equivalents ?\n",
    "Ans: Human learning is the form of learning which requires higher order mental processes like thinking, reasoning, intelligence, etc.We learn different concepts from childhood. For example: When we see a dog and attach the term 'dog', we learn that the word dog refers to a particular animal.\n",
    "\n",
    "Learning through Association - Classical Conditioning.\n",
    "\n",
    "Learning through consequences – Operant Conditioning.\n",
    "\n",
    "Learning through observation – Modeling/Observational Learning.\n",
    "\n",
    "Different Forms of ML are as follows :\n",
    "\n",
    "Artificial Intelligence Learning Theories. Machine Learning. Reinforcement Learning. Supervised Learning. Unsupervised Learning.\n",
    "\n",
    "ML equivalents like Linear regression, decision trees, random forest and support vector machines are some commonly used techniques that are actually examples of supervised learning."
   ]
  },
  {
   "cell_type": "code",
   "execution_count": null,
   "id": "476eb0d5",
   "metadata": {},
   "outputs": [],
   "source": []
  },
  {
   "cell_type": "markdown",
   "id": "0f97e998",
   "metadata": {},
   "source": [
    "3. What is machine learning, and how does it work? What are the key responsibilities of machine learning ?\n",
    "\n",
    "Ans: Machine learning is a branch of Artificial intelligence (AI) that teaches computers on how to think in a similar way to how humans do, like by Learning and improving upon past experiences.\n",
    "\n",
    "It works by exploring data and identifying patterns, and involves minimal human intervention.\n",
    "\n",
    "Roles and responsibilities of a machine learning engineer are:\n",
    "\n",
    "Designing ML systems.\n",
    "\n",
    "Researching and implementing ML algorithms and tools. Selecting appropriate data sets.\n",
    "\n",
    "Picking appropriate data representation methods. Identifying differences in data distribution that affects model performance. Verifying data quality."
   ]
  },
  {
   "cell_type": "code",
   "execution_count": null,
   "id": "c882a346",
   "metadata": {},
   "outputs": [],
   "source": []
  },
  {
   "cell_type": "markdown",
   "id": "b7cbafd4",
   "metadata": {},
   "source": [
    "4. Define the terms \"penalty\" and \"reward\" in the context of reinforcement learning ?\n",
    "\n",
    "Ans: A Reinforcement Learning Algorithm, which may also be referred to as an agent, learns by interacting with its environment. The agent receives rewards by performing correctly and penalties for performing incorrectly. The agent learns without intervention from a human by maximizing its reward and minimizing its penalty. Example: Suppose there is an AI agent present within a maze environment, and his goal is to find the diamond. The agent interacts with the environment by performing some actions, and based on those actions, the state of the agent gets changed, and it also receives a reward or penalty as feedback."
   ]
  },
  {
   "cell_type": "code",
   "execution_count": null,
   "id": "b8631b32",
   "metadata": {},
   "outputs": [],
   "source": []
  },
  {
   "cell_type": "markdown",
   "id": "249d06a8",
   "metadata": {},
   "source": [
    "5. Explain the term \"learning as a search\" ?\n",
    "\n",
    "Ans: Learning can be viewed as a search through the space of all sentences in a concept description language for a sentence that best describes the data. Alternatively, it can be viewed as a search through all hypotheses in a hypothesis space. Concept learning can be viewed as the task of searching through a large space of hypotheses implicitly defined by the hypothesis representation. The goal of this search is to find the hypothesis that best fits the training examples.\n",
    "\n"
   ]
  },
  {
   "cell_type": "code",
   "execution_count": null,
   "id": "8c5b9dff",
   "metadata": {},
   "outputs": [],
   "source": []
  },
  {
   "cell_type": "markdown",
   "id": "be41132d",
   "metadata": {},
   "source": [
    "6. What are the various goals of machine learning? What is the relationship between these and human learning ?\n",
    "\n",
    "Ans: The Goal of machine learning, closely coupled with the goal of AI, is to achieve a through understanding about the nature of learning process (both human learning and other forms of learning), about the computational aspects of learning behaviors, and to implant the learning capability in computer systems. he Goals of Machine Learning. The goal of ML, in simples w ords, is to understand the nature of (human and other forms of) learn- ing, and to build learning capability in computers. To b e more specific, there are three aspects of the goals of ML. (1) T o make the computers smarter , more intelligent. The more direct objecti ve i n this aspect is to develop systems (programs) for specific practical learning tasks in application domains. (2) T o dev elop computational models of human learning process and perform computer simulations. The study in this aspect is also called cognitive modeling. (3) T o explore new learning methods and de velop general learning algorithms independent of applica- tions.\n",
    "\n",
    "Humans have the ability to learn, however with the progress in artificial intelligence, machine learning has become a resource which can augment or even replace human learning. Learning does not happen all at once, but it builds upon and is shaped by previous knowledge. Humans acquire knowledge through experience either directly or shared by others. Machines acquire knowledge through experience shared in the form of past data. We have the terms, Knowledge, Skill, and Memory being used to define intelligence. Just because you have good memory, that does not mean you are intelligent."
   ]
  },
  {
   "cell_type": "code",
   "execution_count": null,
   "id": "8ea5a121",
   "metadata": {},
   "outputs": [],
   "source": []
  },
  {
   "cell_type": "markdown",
   "id": "3311c9a1",
   "metadata": {},
   "source": [
    "7. Illustrate the various elements of machine learning using a real-life illustration ?\n",
    "\n",
    "Ans: The Various elements of the the Machine Learning are:\n",
    "\n",
    "1. Data\n",
    "2. Task\n",
    "3. Model\n",
    "4. Loss Function\n",
    "5. Learning Algorithm\n",
    "6. Evaluation"
   ]
  },
  {
   "cell_type": "code",
   "execution_count": null,
   "id": "e1f917f3",
   "metadata": {},
   "outputs": [],
   "source": []
  },
  {
   "cell_type": "markdown",
   "id": "7ac9f8dd",
   "metadata": {},
   "source": [
    "8. Provide an example of the abstraction method ?\n",
    "\n",
    "Ans: In Machine Learning, Abstraction is supported primarily at the level of modules. This can be justified in two ways: first, Data abstraction is mostly a question of program interfaces and therefore it arises naturally at the point where we have to consider program composition and modules."
   ]
  },
  {
   "cell_type": "code",
   "execution_count": null,
   "id": "93be4728",
   "metadata": {},
   "outputs": [],
   "source": []
  },
  {
   "cell_type": "markdown",
   "id": "1977f51a",
   "metadata": {},
   "source": [
    "9. What is the concept of generalization? What function does it play in the machine learning process ?\n",
    "\n",
    "Ans: Generalization refers to your model's ability to adapt properly to new, previously unseen data, drawn from the same distribution as the one used to create the model.\n",
    "\n",
    "In machine learning, generalization is a definition to demonstrate how well is a trained model to classify or forecast unseen data.This issue can result to classify an actual dog image as a cat from the unseen dataset. Therefore, data diversity is very important factor in order to make a good prediction.\n",
    "\n"
   ]
  },
  {
   "cell_type": "code",
   "execution_count": null,
   "id": "f18fcf8f",
   "metadata": {},
   "outputs": [],
   "source": []
  },
  {
   "cell_type": "markdown",
   "id": "8b3f367b",
   "metadata": {},
   "source": [
    "10. What is classification, exactly? What are the main distinctions between classification and regression ?\n",
    "\n",
    "Ans: In Machine Learning, Classification refers to a predictive modeling problem where a class label is predicted for a given example of input data.Classification is the task of predicting a discrete class label. Whereas Regression is the task of predicting a continuous quantity."
   ]
  },
  {
   "cell_type": "code",
   "execution_count": null,
   "id": "a0fe399b",
   "metadata": {},
   "outputs": [],
   "source": []
  },
  {
   "cell_type": "markdown",
   "id": "e4584b0e",
   "metadata": {},
   "source": [
    "11. What is regression, and how does it work? Give an example of a real-world problem that was solved using regression ?\n",
    "\n",
    "Ans: Regression is a Supervised Machine Learning technique which is used to predict continuous values. The ultimate goal of a regression algorithm is to plot a best-fit line or a curve between the data.\n",
    "\n",
    "The three main metrics that are used for evaluating the trained regression model are Variance, Bias and Error.\n",
    "\n",
    "A simple linear regression real life example could mean you finding a relationship between the revenue and temperature, with a sample size for revenue as the dependent variable. In case of multiple variable regression, you can find the relationship between temperature, pricing and number of workers to the revenue.\n"
   ]
  },
  {
   "cell_type": "markdown",
   "id": "1f50e943",
   "metadata": {},
   "source": [
    "12. Describe the clustering mechanism in detail ?\n",
    "\n",
    "Ans: Clustering is the task of dividing the population or data points into a number of groups such that data points in the same groups are more similar to other data points in the same group than those in other groups. In simple words, the aim is to segregate groups with similar traits and assign them into clusters."
   ]
  },
  {
   "cell_type": "code",
   "execution_count": null,
   "id": "22c2dcf5",
   "metadata": {},
   "outputs": [],
   "source": []
  },
  {
   "cell_type": "markdown",
   "id": "5782b6cc",
   "metadata": {},
   "source": [
    "13. Make brief observations on two of the following topics ?\n",
    "\n",
    "\n",
    "1. Machine learning algorithms are used\n",
    "2. Studying under supervision\n",
    "3. Studying without supervision\n",
    "4. Reinforcement learning is a form of learning based on positive reinforcement.\n",
    "\n",
    "\n",
    "Ans: The breif observations on the following two topics is:\n",
    "\n",
    "<b> Machine learning algorithms are used:</b> At its Most basic, Machine Learning uses programmed algorithms that receive and analyse input data to predict output values within an acceptable range. As new data is fed to these algorithms, they learn and optimise their operations to improve performance, developing intelligence over time.\n",
    "\n",
    "Studying Under Supervision: In machine learning, there are two important categories- Supervised and Unsupervised learning.Supervised learning, an algorithm learns from a training dataset. We know the correct answers or desired output, the algorithm makes predictions using the given dataset and is corrected by the “supervisor”."
   ]
  },
  {
   "cell_type": "code",
   "execution_count": null,
   "id": "5fae4115",
   "metadata": {},
   "outputs": [],
   "source": []
  }
 ],
 "metadata": {
  "kernelspec": {
   "display_name": "Python 3",
   "language": "python",
   "name": "python3"
  },
  "language_info": {
   "codemirror_mode": {
    "name": "ipython",
    "version": 3
   },
   "file_extension": ".py",
   "mimetype": "text/x-python",
   "name": "python",
   "nbconvert_exporter": "python",
   "pygments_lexer": "ipython3",
   "version": "3.8.8"
  }
 },
 "nbformat": 4,
 "nbformat_minor": 5
}
